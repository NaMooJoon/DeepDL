{
 "cells": [
  {
   "cell_type": "code",
   "execution_count": 59,
   "metadata": {},
   "outputs": [
    {
     "name": "stdout",
     "output_type": "stream",
     "text": [
      "import java.net.URL;\n"
     ]
    }
   ],
   "source": [
    "#from bpe import Encoder\n",
    "import pickle\n",
    "import sys\n",
    "import json\n",
    "\n",
    "# if len(sys.argv) != 3:\n",
    "#     print(\"Insufficient arguments\")\n",
    "#     sys.exit()\n",
    "\n",
    "dictionary = './dictionary.p'\n",
    "lineblocks = '../lineblocks.json'\n",
    "\n",
    "with open(dictionary, 'rb') as file:\n",
    "    encoder = pickle.load(file)\n",
    "\n",
    "example = \"System.out.println(\\\"Hello World\\\");\"\n",
    "with open(lineblocks, 'rb') as file2:\n",
    "    aList = json.load(file2)\n",
    "\n",
    "print(aList[0][0]);\n",
    "\n",
    "# convert pickle to json\n",
    "# jsonList = json.dumps(aList)\n",
    "# transform the json using encoder\n",
    "# encoded = encoder.encode(jsonList)\n",
    "\n",
    "# print the encoded json TO FILE\n",
    "# with open('encoded.json', 'w') as file3:\n",
    "#     file3.write(encoded)\n",
    "\n",
    "# print(encoder.tokenize(example))\n",
    "# ['__sow', 'vi', 'z', 'zi', 'ni', '__eow', '__sow', ':', '__eow', 'he', 'didn', \"'\", 't', 'fall', '__sow', '?', '__eow', '__sow', 'in', 'co', 'n', 'ce', 'iv', 'ab', 'le', '__eow', '__sow', '!', '__eow']\n",
    "# print(next(encoder.transform([example])))\n",
    "# [24, 108, 82, 83, 71, 25, 24, 154, 25, 14, 10, 11, 12, 13, 24, 85, 25, 24, 140, 59, 39, 157, 87, 165, 114, 25, 24, 148, 25]\n",
    "# print(next(encoder.inverse_transform(encoder.transform([example]))))\n",
    "# vizzini : he didn ' t fall ? inconceivable !\n",
    "\n",
    "# example = \"if ((exampleCode.startsWith(\\\"{\\\") && !exampleCode.endsWith(\\\"}\\\"))\"\n",
    "# print(next(encoder.transform([example])))\n",
    "# print(next(encoder.inverse_transform(encoder.transform([example]))))"
   ]
  },
  {
   "cell_type": "code",
   "execution_count": 60,
   "metadata": {},
   "outputs": [],
   "source": [
    "from tqdm import tqdm\n"
   ]
  },
  {
   "cell_type": "code",
   "execution_count": 61,
   "metadata": {},
   "outputs": [
    {
     "name": "stderr",
     "output_type": "stream",
     "text": [
      "100%|██████████| 4776/4776 [00:01<00:00, 4342.44it/s]\n"
     ]
    }
   ],
   "source": [
    "# write encoder.transform result into file\n",
    "with open('test.txt', 'w') as file3:\n",
    "    for i in tqdm(aList):\n",
    "        for j in i :\n",
    "            l = next(encoder.transform([j]))\n",
    "            # print(l)\n",
    "            file3.write(','.join(str(s) for s in l))"
   ]
  },
  {
   "cell_type": "code",
   "execution_count": null,
   "metadata": {},
   "outputs": [],
   "source": []
  }
 ],
 "metadata": {
  "kernelspec": {
   "display_name": "Python 3.6.9 64-bit",
   "language": "python",
   "name": "python3"
  },
  "language_info": {
   "codemirror_mode": {
    "name": "ipython",
    "version": 3
   },
   "file_extension": ".py",
   "mimetype": "text/x-python",
   "name": "python",
   "nbconvert_exporter": "python",
   "pygments_lexer": "ipython3",
   "version": "3.6.9"
  },
  "orig_nbformat": 4,
  "vscode": {
   "interpreter": {
    "hash": "31f2aee4e71d21fbe5cf8b01ff0e069b9275f58929596ceb00d14d90e3e16cd6"
   }
  }
 },
 "nbformat": 4,
 "nbformat_minor": 2
}
