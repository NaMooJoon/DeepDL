{
 "cells": [
  {
   "cell_type": "code",
   "execution_count": 6,
   "metadata": {},
   "outputs": [],
   "source": [
    "import sentencepiece as spm\n",
    "import pandas as pd\n",
    "import urllib.request\n",
    "import csv"
   ]
  },
  {
   "cell_type": "code",
   "execution_count": 3,
   "metadata": {},
   "outputs": [],
   "source": [
    "# urllib.request.urlretrieve(\"https://raw.githubusercontent.com/LawrenceDuan/IMDb-Review-Analysis/master/IMDb_Reviews.csv\", filename=\"IMDb_Reviews.csv\")\n",
    "# train_df = pd.read_csv('IMDb_Reviews.csv')\n",
    "# train_df['review']"
   ]
  },
  {
   "cell_type": "code",
   "execution_count": 4,
   "metadata": {},
   "outputs": [],
   "source": [
    "# print('리뷰 개수 :',len(train_df)) # 리뷰 개수 출력\n",
    "# with open('imdb_review.txt', 'w', encoding='utf8') as f:\n",
    "#     f.write('\\n'.join(train_df['review']))"
   ]
  },
  {
   "cell_type": "code",
   "execution_count": 48,
   "metadata": {},
   "outputs": [],
   "source": [
    "spm.SentencePieceTrainer.Train('--control_symbols=<EOL>,<EOS> --user_defined_symbols=[EOL],[EOS] --unk_piece=[UNK] --pad_piece=[PAD] --input=corpus.txt --model_prefix=imdb --vocab_size=11723 --model_type=bpe --max_sentence_length=99999')"
   ]
  },
  {
   "cell_type": "code",
   "execution_count": 49,
   "metadata": {},
   "outputs": [
    {
     "data": {
      "text/html": [
       "<div>\n",
       "<style scoped>\n",
       "    .dataframe tbody tr th:only-of-type {\n",
       "        vertical-align: middle;\n",
       "    }\n",
       "\n",
       "    .dataframe tbody tr th {\n",
       "        vertical-align: top;\n",
       "    }\n",
       "\n",
       "    .dataframe thead th {\n",
       "        text-align: right;\n",
       "    }\n",
       "</style>\n",
       "<table border=\"1\" class=\"dataframe\">\n",
       "  <thead>\n",
       "    <tr style=\"text-align: right;\">\n",
       "      <th></th>\n",
       "      <th>0</th>\n",
       "      <th>1</th>\n",
       "    </tr>\n",
       "  </thead>\n",
       "  <tbody>\n",
       "    <tr>\n",
       "      <th>8913</th>\n",
       "      <td>()=</td>\n",
       "      <td>-8906</td>\n",
       "    </tr>\n",
       "    <tr>\n",
       "      <th>10855</th>\n",
       "      <td>ConstantsV</td>\n",
       "      <td>-10848</td>\n",
       "    </tr>\n",
       "    <tr>\n",
       "      <th>6004</th>\n",
       "      <td>▁Offl</td>\n",
       "      <td>-5997</td>\n",
       "    </tr>\n",
       "    <tr>\n",
       "      <th>9739</th>\n",
       "      <td>Vers</td>\n",
       "      <td>-9732</td>\n",
       "    </tr>\n",
       "    <tr>\n",
       "      <th>3481</th>\n",
       "      <td>▁following</td>\n",
       "      <td>-3474</td>\n",
       "    </tr>\n",
       "    <tr>\n",
       "      <th>372</th>\n",
       "      <td>▁try</td>\n",
       "      <td>-365</td>\n",
       "    </tr>\n",
       "    <tr>\n",
       "      <th>1596</th>\n",
       "      <td>JECT</td>\n",
       "      <td>-1589</td>\n",
       "    </tr>\n",
       "    <tr>\n",
       "      <th>9702</th>\n",
       "      <td>wnership</td>\n",
       "      <td>-9695</td>\n",
       "    </tr>\n",
       "    <tr>\n",
       "      <th>4544</th>\n",
       "      <td>(\"36\"))</td>\n",
       "      <td>-4537</td>\n",
       "    </tr>\n",
       "    <tr>\n",
       "      <th>314</th>\n",
       "      <td>ect</td>\n",
       "      <td>-307</td>\n",
       "    </tr>\n",
       "    <tr>\n",
       "      <th>1784</th>\n",
       "      <td>▁testEquals</td>\n",
       "      <td>-1777</td>\n",
       "    </tr>\n",
       "    <tr>\n",
       "      <th>2201</th>\n",
       "      <td>ae</td>\n",
       "      <td>-2194</td>\n",
       "    </tr>\n",
       "    <tr>\n",
       "      <th>7617</th>\n",
       "      <td>au</td>\n",
       "      <td>-7610</td>\n",
       "    </tr>\n",
       "    <tr>\n",
       "      <th>3069</th>\n",
       "      <td>DIRE</td>\n",
       "      <td>-3062</td>\n",
       "    </tr>\n",
       "    <tr>\n",
       "      <th>7487</th>\n",
       "      <td>Startup</td>\n",
       "      <td>-7480</td>\n",
       "    </tr>\n",
       "    <tr>\n",
       "      <th>6444</th>\n",
       "      <td>etG</td>\n",
       "      <td>-6437</td>\n",
       "    </tr>\n",
       "    <tr>\n",
       "      <th>287</th>\n",
       "      <td>Manager</td>\n",
       "      <td>-280</td>\n",
       "    </tr>\n",
       "    <tr>\n",
       "      <th>4861</th>\n",
       "      <td>createWSDL</td>\n",
       "      <td>-4854</td>\n",
       "    </tr>\n",
       "    <tr>\n",
       "      <th>5480</th>\n",
       "      <td>▁orL</td>\n",
       "      <td>-5473</td>\n",
       "    </tr>\n",
       "    <tr>\n",
       "      <th>9189</th>\n",
       "      <td>enStream</td>\n",
       "      <td>-9182</td>\n",
       "    </tr>\n",
       "  </tbody>\n",
       "</table>\n",
       "</div>"
      ],
      "text/plain": [
       "                 0      1\n",
       "8913           ()=  -8906\n",
       "10855   ConstantsV -10848\n",
       "6004         ▁Offl  -5997\n",
       "9739          Vers  -9732\n",
       "3481    ▁following  -3474\n",
       "372           ▁try   -365\n",
       "1596          JECT  -1589\n",
       "9702      wnership  -9695\n",
       "4544       (\"36\"))  -4537\n",
       "314            ect   -307\n",
       "1784   ▁testEquals  -1777\n",
       "2201            ae  -2194\n",
       "7617            au  -7610\n",
       "3069          DIRE  -3062\n",
       "7487       Startup  -7480\n",
       "6444           etG  -6437\n",
       "287        Manager   -280\n",
       "4861    createWSDL  -4854\n",
       "5480          ▁orL  -5473\n",
       "9189      enStream  -9182"
      ]
     },
     "execution_count": 49,
     "metadata": {},
     "output_type": "execute_result"
    }
   ],
   "source": [
    "vocab_list = pd.read_csv('imdb.vocab', sep='\\t', header=None, quoting=csv.QUOTE_NONE)\n",
    "vocab_list.sample(20)"
   ]
  },
  {
   "cell_type": "code",
   "execution_count": 24,
   "metadata": {},
   "outputs": [
    {
     "data": {
      "text/plain": [
       "11723"
      ]
     },
     "execution_count": 24,
     "metadata": {},
     "output_type": "execute_result"
    }
   ],
   "source": [
    "len(vocab_list)"
   ]
  },
  {
   "cell_type": "code",
   "execution_count": 50,
   "metadata": {},
   "outputs": [
    {
     "data": {
      "text/plain": [
       "True"
      ]
     },
     "execution_count": 50,
     "metadata": {},
     "output_type": "execute_result"
    }
   ],
   "source": [
    "sp = spm.SentencePieceProcessor()\n",
    "vocab_file = \"imdb.model\"\n",
    "sp.load(vocab_file)"
   ]
  },
  {
   "cell_type": "code",
   "execution_count": 51,
   "metadata": {},
   "outputs": [
    {
     "name": "stdout",
     "output_type": "stream",
     "text": [
      "public void deleteSubscription(String authtoken, String key) throws Exception {[EOL]\n",
      "['▁public', '▁void', '▁delete', 'Subscription', '(', 'String', '▁authtoken', ',', '▁String', '▁key', ')', '▁throws', '▁Exception', '▁{', '[EOL]']\n",
      "[112, 258, 2100, 209, 11653, 211, 467, 11683, 115, 236, 11651, 357, 423, 41, 5]\n",
      "\n",
      "if (authtoken == null) {[EOL]\n",
      "['▁if', '▁(', 'authtoken', '▁==', '▁null', ')', '▁{', '[EOL]']\n",
      "[161, 83, 227, 366, 150, 11651, 41, 5]\n",
      "\n",
      "authtoken = clerk.getAuthToken();[EOL]\n",
      "['▁authtoken', '▁=', '▁clerk', '.', 'getAuthToken', '();', '[EOL]']\n",
      "[467, 23, 252, 11647, 575, 61, 5]\n",
      "\n",
      "}[EOL]\n",
      "['▁}', '[EOL]']\n",
      "[40, 5]\n",
      "\n",
      "if (key == null) {[EOS]\n",
      "['▁if', '▁(', 'key', '▁==', '▁null', ')', '▁{', '[EOS]']\n",
      "[161, 83, 142, 366, 150, 11651, 41, 6]\n",
      "\n"
     ]
    }
   ],
   "source": [
    "lines = [\n",
    "  \"public void deleteSubscription(String authtoken, String key) throws Exception {[EOL]\",\n",
    "  \"if (authtoken == null) {[EOL]\",\n",
    "  \"authtoken = clerk.getAuthToken();[EOL]\",\n",
    "  \"}[EOL]\",\n",
    "  \"if (key == null) {[EOS]\"\n",
    "]\n",
    "for line in lines:\n",
    "  print(line)\n",
    "  print(sp.encode_as_pieces(line))\n",
    "  print(sp.encode_as_ids(line))\n",
    "  print()"
   ]
  },
  {
   "cell_type": "code",
   "execution_count": 17,
   "metadata": {},
   "outputs": [
    {
     "data": {
      "text/plain": [
       "11723"
      ]
     },
     "execution_count": 17,
     "metadata": {},
     "output_type": "execute_result"
    }
   ],
   "source": [
    "sp.GetPieceSize()"
   ]
  },
  {
   "cell_type": "code",
   "execution_count": 18,
   "metadata": {},
   "outputs": [
    {
     "data": {
      "text/plain": [
       "'________'"
      ]
     },
     "execution_count": 18,
     "metadata": {},
     "output_type": "execute_result"
    }
   ],
   "source": [
    "sp.IdToPiece(430)"
   ]
  },
  {
   "cell_type": "code",
   "execution_count": 19,
   "metadata": {},
   "outputs": [
    {
     "data": {
      "text/plain": [
       "0"
      ]
     },
     "execution_count": 19,
     "metadata": {},
     "output_type": "execute_result"
    }
   ],
   "source": [
    "sp.PieceToId('▁character')"
   ]
  },
  {
   "cell_type": "code",
   "execution_count": 20,
   "metadata": {},
   "outputs": [
    {
     "data": {
      "text/plain": [
       "'reToken breakpathet assert thamevideralBusiness'"
      ]
     },
     "execution_count": 20,
     "metadata": {},
     "output_type": "execute_result"
    }
   ],
   "source": [
    "sp.DecodeIds([41, 141, 1364, 1120, 4, 666, 285, 92, 1078, 33, 91])"
   ]
  }
 ],
 "metadata": {
  "kernelspec": {
   "display_name": "Python 3",
   "language": "python",
   "name": "python3"
  },
  "language_info": {
   "codemirror_mode": {
    "name": "ipython",
    "version": 3
   },
   "file_extension": ".py",
   "mimetype": "text/x-python",
   "name": "python",
   "nbconvert_exporter": "python",
   "pygments_lexer": "ipython3",
   "version": "3.6.9"
  },
  "orig_nbformat": 4,
  "vscode": {
   "interpreter": {
    "hash": "31f2aee4e71d21fbe5cf8b01ff0e069b9275f58929596ceb00d14d90e3e16cd6"
   }
  }
 },
 "nbformat": 4,
 "nbformat_minor": 2
}
